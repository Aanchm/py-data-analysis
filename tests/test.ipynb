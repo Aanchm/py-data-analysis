{
 "cells": [
  {
   "cell_type": "code",
   "execution_count": 27,
   "metadata": {},
   "outputs": [
    {
     "name": "stdout",
     "output_type": "stream",
     "text": [
      "CA_MeanA_Std_Dev\n",
      "0Group12.01.414214\n",
      "1Group2-2.0NaN\n",
      "CA_MeanA_Std_Dev\n",
      "0Group12.01.414214\n",
      "1Group2-2.0NaN\n",
      "yes\n"
     ]
    }
   ],
   "source": [
    "import pandas as pd\n",
    "import numpy as np\n",
    "\n",
    "\n",
    "def get_stats_on_col_by_groups(df, groupby_col, stats_col):\n",
    "\n",
    "    stats = pd.DataFrame()\n",
    "    grouped_data = df.groupby(groupby_col)\n",
    "\n",
    "    for iter, group in grouped_data:\n",
    "        mean = group[stats_col].mean()\n",
    "        stddev = group[stats_col].std()\n",
    "\n",
    "        new_row = pd.DataFrame({groupby_col: [iter], f\"{stats_col}_Mean\": [mean], f\"{stats_col}_Std_Dev\": [stddev]})\n",
    "        stats = pd.concat([stats, new_row], ignore_index = True)\n",
    "\n",
    "    return stats\n",
    "\n",
    "df = pd.DataFrame({'A': [1, -2, 3], 'B': [\"B1\", \"B2\", \"B3\"], 'C': [\"Group1\", \"Group2\", \"Group1\"]})\n",
    "\n",
    "stats = get_stats_on_col_by_groups(df, \"C\", \"A\").to_string().replace(\" \", \"\")\n",
    "\n",
    "expected_stats = pd.DataFrame({'C': [\"Group1\", \"Group2\"], 'A_Mean': [2.0, -2.0], 'A_Std_Dev': [np.sqrt(2), \"NaN\"]}).to_string().replace(\" \", \"\")\n",
    "# print(expected_stats)\n",
    "# print(stats)\n",
    "\n",
    "\n",
    "print(stats)\n",
    "print(expected_stats)\n",
    "\n",
    "if stats == expected_stats:\n",
    "    print(\"yes\")"
   ]
  }
 ],
 "metadata": {
  "kernelspec": {
   "display_name": "Python 3.10.2 64-bit",
   "language": "python",
   "name": "python3"
  },
  "language_info": {
   "codemirror_mode": {
    "name": "ipython",
    "version": 3
   },
   "file_extension": ".py",
   "mimetype": "text/x-python",
   "name": "python",
   "nbconvert_exporter": "python",
   "pygments_lexer": "ipython3",
   "version": "3.10.2"
  },
  "orig_nbformat": 4,
  "vscode": {
   "interpreter": {
    "hash": "26de051ba29f2982a8de78e945f0abaf191376122a1563185a90213a26c5da77"
   }
  }
 },
 "nbformat": 4,
 "nbformat_minor": 2
}
