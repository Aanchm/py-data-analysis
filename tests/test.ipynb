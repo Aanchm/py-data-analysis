{
 "cells": [
  {
   "cell_type": "code",
   "execution_count": 12,
   "metadata": {},
   "outputs": [
    {
     "name": "stdout",
     "output_type": "stream",
     "text": [
      "   A  B   C\n",
      "0  A  4   9\n",
      "1  B  6  12\n",
      "2  C  8  15\n",
      "   A  B   C\n",
      "0  A  4   9\n",
      "1  B  6  12\n",
      "2  C  8  15\n"
     ]
    }
   ],
   "source": [
    "import pandas as pd\n",
    "\n",
    "df = pd.DataFrame({'A': [\"A\", \"B\", \"C\"], 'B': [4, 6, 8], 'C': [9, 12, 15]})\n",
    "\n",
    "def get_data_with_col_greater_than_val(df, val, col):\n",
    "    if col in df.columns:\n",
    "        df = df[df[col] > val ]\n",
    "    return df\n",
    "\n",
    "actual_df = get_data_with_col_greater_than_val(df, col=\"D\", val=6)\n",
    "expected_df = df\n",
    "print(actual_df)\n",
    "print(expected_df)"
   ]
  }
 ],
 "metadata": {
  "kernelspec": {
   "display_name": "Python 3.10.2 64-bit",
   "language": "python",
   "name": "python3"
  },
  "language_info": {
   "codemirror_mode": {
    "name": "ipython",
    "version": 3
   },
   "file_extension": ".py",
   "mimetype": "text/x-python",
   "name": "python",
   "nbconvert_exporter": "python",
   "pygments_lexer": "ipython3",
   "version": "3.10.2"
  },
  "orig_nbformat": 4,
  "vscode": {
   "interpreter": {
    "hash": "26de051ba29f2982a8de78e945f0abaf191376122a1563185a90213a26c5da77"
   }
  }
 },
 "nbformat": 4,
 "nbformat_minor": 2
}
